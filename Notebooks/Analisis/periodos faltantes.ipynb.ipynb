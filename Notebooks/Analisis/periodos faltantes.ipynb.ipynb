{
 "cells": [
  {
   "cell_type": "code",
   "execution_count": 4,
   "metadata": {},
   "outputs": [],
   "source": [
    "import geopandas as gpd\n",
    "import pandas as pd\n",
    "import numpy as np\n",
    "from numpy import mean\n",
    "import plotly.express as px\n",
    "import matplotlib.pyplot as plt"
   ]
  },
  {
   "cell_type": "code",
   "execution_count": 5,
   "metadata": {},
   "outputs": [],
   "source": [
    "gdf = gpd.read_file('data clean\\estaciones_comp.shp')\n",
    "\n"
   ]
  },
  {
   "cell_type": "code",
   "execution_count": 6,
   "metadata": {},
   "outputs": [],
   "source": [
    "gdf = gpd.read_file('data clean\\estaciones_comp.shp')\n",
    "\n",
    "\n",
    "l = gdf.columns.to_list()\n",
    "l.remove('geometry')\n",
    "print(l)\n",
    "for i in l:\n",
    "\n",
    "    gdf[i] = gdf[i].astype(\"string\")\n",
    "\n",
    "print(gdf.dtypes)\n",
    "gdf.head(3)"
   ]
  },
  {
   "cell_type": "code",
   "execution_count": null,
   "metadata": {},
   "outputs": [],
   "source": [
    "\n",
    "def get_df(estation):\n",
    "\n",
    "    try:\n",
    "        N = gdf[gdf['Name']== estation].index[0]\n",
    "\n",
    "        df = pd.read_csv(gdf.loc[N,'link'], skiprows=7 )\n",
    "\n",
    "        for i in df.index:\n",
    "            df.loc[i,'fecha'] = pd.to_datetime(str(df.loc[i,'Mes']) +'/'+ str(df.loc[i,'Día']) +'/'+ str(df.loc[i,'Anio']))  \n",
    "\n",
    "        df.set_index('fecha', inplace = True)\n",
    "\n",
    "        df = df.drop(['Mes','Día','Anio'], axis=1)\n",
    "    except:\n",
    "        print('error')\n",
    "\n",
    "\n",
    "    return df\n",
    "\n",
    "\n",
    "def plot_station(df):\n",
    "\n",
    "    try:\n",
    "        fig = px.line(df, x=df.index ,y='Datos')\n",
    "        # Add range slider\n",
    "        fig.update_layout(\n",
    "            xaxis=dict(\n",
    "                rangeselector=dict(\n",
    "                    buttons=list([\n",
    "                        dict(count=1,\n",
    "                             label=\"1m\",\n",
    "                             step=\"month\",\n",
    "                             stepmode=\"backward\"),\n",
    "                        dict(count=6,\n",
    "                             label=\"6m\",\n",
    "                             step=\"month\",\n",
    "                             stepmode=\"backward\"),\n",
    "                        dict(count=1,\n",
    "                             label=\"YTD\",\n",
    "                             step=\"year\",\n",
    "                             stepmode=\"todate\"),\n",
    "                        dict(count=1,\n",
    "                             label=\"1y\",\n",
    "                             step=\"year\",\n",
    "                             stepmode=\"backward\"),\n",
    "                        dict(step=\"all\")\n",
    "                    ])\n",
    "                ),\n",
    "                rangeslider=dict(\n",
    "                    visible=True\n",
    "                ),\n",
    "                type=\"date\"\n",
    "            )\n",
    "        )\n",
    "\n",
    "        fig.show()\n",
    "    except:\n",
    "        print(\"no se pudo... :'v checa la estacion\")\n",
    "\n",
    "\n",
    "\n"
   ]
  },
  {
   "cell_type": "code",
   "execution_count": null,
   "metadata": {},
   "outputs": [],
   "source": [
    "est = get_df('1008')\n",
    "est.head(3)"
   ]
  },
  {
   "cell_type": "code",
   "execution_count": null,
   "metadata": {},
   "outputs": [],
   "source": [
    "\n",
    "plot_station(est)"
   ]
  },
  {
   "cell_type": "code",
   "execution_count": null,
   "metadata": {},
   "outputs": [],
   "source": [
    "pd.isnull(est['Datos']).sum()"
   ]
  },
  {
   "cell_type": "code",
   "execution_count": null,
   "metadata": {},
   "outputs": [],
   "source": [
    "'falta el {} % de los datos'.format(round((pd.isnull(est['Datos']).sum()/len(est))*100, 3))"
   ]
  },
  {
   "cell_type": "markdown",
   "metadata": {},
   "source": [
    "* obtener cuantos periodos vacios\n",
    "* promedio de longitud de periodos vacios\n",
    "* el periodo mas largo\n",
    "    \n",
    "\n",
    "\n"
   ]
  },
  {
   "cell_type": "code",
   "execution_count": null,
   "metadata": {},
   "outputs": [],
   "source": [
    "np.isnan(est.iloc[0,0])"
   ]
  },
  {
   "cell_type": "code",
   "execution_count": null,
   "metadata": {},
   "outputs": [],
   "source": [
    "est"
   ]
  },
  {
   "cell_type": "code",
   "execution_count": null,
   "metadata": {},
   "outputs": [],
   "source": [
    "\n",
    "\n",
    "    \n",
    "def periodos_foc(est, foc='faltantes'):\n",
    "    dd =[]\n",
    "    ondas= pd.DataFrame(columns=['inicio','final','no_dias'])\n",
    "\n",
    "    if foc == 'faltantes':\n",
    "\n",
    "        for i in range(0,len(est)):\n",
    "\n",
    "            if np.isnan(est.iloc[i,0]):\n",
    "\n",
    "                dd.append(est.iloc[i,0])\n",
    "            else:\n",
    "                if len(dd)>0 : \n",
    "\n",
    "                    rr={'inicio':est.iloc[i-len(dd)].name,\n",
    "                        'final':est.iloc[i-1].name, \n",
    "                        'no_dias':len(dd) }\n",
    "\n",
    "                    ondas = ondas.append(rr, ignore_index=True)\n",
    "\n",
    "                dd=[]\n",
    "        ondas['%']= (ondas['no_dias']/len(est))*100\n",
    "                \n",
    "        return ondas\n",
    "\n",
    "    elif foc == 'completos':\n",
    "\n",
    "        for i in range(0,len(est)):\n",
    "\n",
    "            if ~np.isnan(est.iloc[i,0]):\n",
    "\n",
    "                dd.append(est.iloc[i,0])\n",
    "            else:\n",
    "                if len(dd)>0 : \n",
    "\n",
    "                    rr={'inicio':est.iloc[i-len(dd)].name,\n",
    "                        'final':est.iloc[i-1].name, \n",
    "                        'no_dias':len(dd) }\n",
    "\n",
    "                    ondas = ondas.append(rr, ignore_index=True)\n",
    "\n",
    "                dd=[]\n",
    "        ondas['%']= (ondas['no_dias']/len(est))*100\n",
    "        return ondas\n",
    "\n",
    "\n"
   ]
  },
  {
   "cell_type": "code",
   "execution_count": null,
   "metadata": {},
   "outputs": [],
   "source": [
    "import libs.hydro as hydpy"
   ]
  },
  {
   "cell_type": "code",
   "execution_count": null,
   "metadata": {},
   "outputs": [],
   "source": [
    "est = hydpy.get_df('1008')"
   ]
  },
  {
   "cell_type": "code",
   "execution_count": null,
   "metadata": {},
   "outputs": [],
   "source": [
    "falt  = hydpy.periodos_foc(est, 'faltantes')\n",
    "comp = hydpy.periodos_foc(est, 'completos')"
   ]
  },
  {
   "cell_type": "code",
   "execution_count": null,
   "metadata": {},
   "outputs": [],
   "source": [
    "falt"
   ]
  },
  {
   "cell_type": "code",
   "execution_count": null,
   "metadata": {},
   "outputs": [],
   "source": [
    "comp"
   ]
  },
  {
   "cell_type": "code",
   "execution_count": null,
   "metadata": {},
   "outputs": [],
   "source": [
    "est.loc['1980-07-01':'2014-04-30',].plot(figsize=(25,5))"
   ]
  },
  {
   "cell_type": "code",
   "execution_count": null,
   "metadata": {},
   "outputs": [],
   "source": [
    "len(est)"
   ]
  },
  {
   "cell_type": "code",
   "execution_count": null,
   "metadata": {},
   "outputs": [],
   "source": [
    "est.loc['1959-07-01', 'Datos']"
   ]
  },
  {
   "cell_type": "code",
   "execution_count": null,
   "metadata": {},
   "outputs": [],
   "source": [
    "idx  = est.index.get_loc('1980-06-30')\n",
    "print(est.iloc[idx-1,0])\n",
    "print(est.iloc[idx,0])\n",
    "print(est.iloc[idx+1,0])\n",
    "\n",
    "print(  (est.iloc[idx-1,0] + est.iloc[idx+1,0])/2)"
   ]
  },
  {
   "cell_type": "code",
   "execution_count": null,
   "metadata": {},
   "outputs": [],
   "source": [
    "falt"
   ]
  },
  {
   "cell_type": "code",
   "execution_count": null,
   "metadata": {},
   "outputs": [],
   "source": [
    "#relleno de los que solo son un dia con el promedio del dia anterior con el dia posterior\n",
    "\n",
    "for i in falt.index:\n",
    "    \n",
    "    if falt.loc[i,'no_dias'] == 1: \n",
    "        print(i)\n",
    "        idx  = est.index.get_loc(falt.loc[i,'inicio'])\n",
    "        print(idx)\n",
    "        est.iloc[idx,0] = (est.iloc[idx-1,0]+est.iloc[idx+1,0])/2\n",
    "        print('+++++++++++++++++++++++')\n",
    "        print(est.iloc[idx-1,0])\n",
    "        print(est.iloc[idx+1,0])\n",
    "        print((est.iloc[idx-1,0]+est.iloc[idx+1,0])/2)\n",
    "        \n",
    "        print('----------------------')\n",
    "        "
   ]
  },
  {
   "cell_type": "code",
   "execution_count": null,
   "metadata": {},
   "outputs": [],
   "source": [
    "falt2  = periodos_foc(est, 'faltantes')\n",
    "comp2 = periodos_foc(est, 'completos')"
   ]
  },
  {
   "cell_type": "code",
   "execution_count": null,
   "metadata": {},
   "outputs": [],
   "source": [
    "falt2"
   ]
  },
  {
   "cell_type": "code",
   "execution_count": null,
   "metadata": {},
   "outputs": [],
   "source": [
    "comp2"
   ]
  },
  {
   "cell_type": "code",
   "execution_count": null,
   "metadata": {},
   "outputs": [],
   "source": [
    "comp2[ comp2['no_dias'] == comp2['no_dias'].max()]"
   ]
  },
  {
   "cell_type": "code",
   "execution_count": null,
   "metadata": {},
   "outputs": [],
   "source": [
    "rango = [comp2[ comp2['no_dias'] == comp2['no_dias'].max()].iloc[0,0],comp2[ comp2['no_dias'] == comp2['no_dias'].max()].iloc[0,1]]\n",
    "rango"
   ]
  },
  {
   "cell_type": "code",
   "execution_count": null,
   "metadata": {},
   "outputs": [],
   "source": [
    "complete_range = est.loc[rango[0]:rango[1],]"
   ]
  },
  {
   "cell_type": "code",
   "execution_count": null,
   "metadata": {},
   "outputs": [],
   "source": [
    "train = complete_range.iloc[0:int(len(est)*0.75), :] \n",
    "print(len(train))\n",
    "\n",
    "test = complete_range.iloc[int(len(est)*0.75): len(est), :]\n",
    "print(len(test)) "
   ]
  },
  {
   "cell_type": "code",
   "execution_count": null,
   "metadata": {},
   "outputs": [],
   "source": [
    "train.plot()"
   ]
  },
  {
   "cell_type": "code",
   "execution_count": null,
   "metadata": {},
   "outputs": [],
   "source": [
    "test.plot()"
   ]
  },
  {
   "cell_type": "code",
   "execution_count": null,
   "metadata": {},
   "outputs": [],
   "source": [
    "print(train.tail(3))\n",
    "print(test.head(3))"
   ]
  },
  {
   "cell_type": "code",
   "execution_count": null,
   "metadata": {},
   "outputs": [],
   "source": [
    "\n",
    "\n",
    "from statsmodels.graphics.tsaplots import plot_acf "
   ]
  },
  {
   "cell_type": "code",
   "execution_count": null,
   "metadata": {},
   "outputs": [],
   "source": [
    "plot_acf(train['Datos'], lags = 365 , zero = False)\n",
    "plt.show()"
   ]
  },
  {
   "cell_type": "code",
   "execution_count": null,
   "metadata": {},
   "outputs": [],
   "source": []
  }
 ],
 "metadata": {
  "kernelspec": {
   "display_name": "Python 3.9.7 ('geopandas_env')",
   "language": "python",
   "name": "python3"
  },
  "language_info": {
   "codemirror_mode": {
    "name": "ipython",
    "version": 3
   },
   "file_extension": ".py",
   "mimetype": "text/x-python",
   "name": "python",
   "nbconvert_exporter": "python",
   "pygments_lexer": "ipython3",
   "version": "3.9.7"
  },
  "orig_nbformat": 4,
  "vscode": {
   "interpreter": {
    "hash": "3ac2a1252d471645fe93e22ced14f7826203e5e4caa0e0e9a03cfb15b86dfcc2"
   }
  }
 },
 "nbformat": 4,
 "nbformat_minor": 2
}
